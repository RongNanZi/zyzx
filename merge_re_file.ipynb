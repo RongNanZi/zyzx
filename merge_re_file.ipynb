{
 "cells": [
  {
   "cell_type": "code",
   "execution_count": 27,
   "metadata": {},
   "outputs": [],
   "source": [
    "import pandas as pd\n",
    "path = 'data/'\n",
    "files_path = [path+'sqd_kre_.csv', path+'lidongdong/lidongdong_kre.csv', path+'shengjian/jsheng_kre.csv']"
   ]
  },
  {
   "cell_type": "code",
   "execution_count": 28,
   "metadata": {},
   "outputs": [
    {
     "data": {
      "text/html": [
       "<div>\n",
       "<style scoped>\n",
       "    .dataframe tbody tr th:only-of-type {\n",
       "        vertical-align: middle;\n",
       "    }\n",
       "\n",
       "    .dataframe tbody tr th {\n",
       "        vertical-align: top;\n",
       "    }\n",
       "\n",
       "    .dataframe thead th {\n",
       "        text-align: right;\n",
       "    }\n",
       "</style>\n",
       "<table border=\"1\" class=\"dataframe\">\n",
       "  <thead>\n",
       "    <tr style=\"text-align: right;\">\n",
       "      <th></th>\n",
       "      <th>key</th>\n",
       "      <th>cn_key</th>\n",
       "      <th>re</th>\n",
       "    </tr>\n",
       "  </thead>\n",
       "  <tbody>\n",
       "    <tr>\n",
       "      <th>0</th>\n",
       "      <td>jsheng_话费余额_1</td>\n",
       "      <td>话费余额</td>\n",
       "      <td>(可用余额|余额不足|账户余额|话费余额|当前余额|余额)-?为?是?(不足)?(人民币)?...</td>\n",
       "    </tr>\n",
       "    <tr>\n",
       "      <th>1</th>\n",
       "      <td>jsheng_截止时间_1</td>\n",
       "      <td>截止时间</td>\n",
       "      <td>截[至止](?P&lt;截止时间&gt;(\\d{4,4}年)?(\\d{1,2}月)(\\d{1,2}日)?...</td>\n",
       "    </tr>\n",
       "    <tr>\n",
       "      <th>2</th>\n",
       "      <td>jsheng_剩余_1</td>\n",
       "      <td>剩余</td>\n",
       "      <td>(省内|国内)?流量(还)?剩?余?([\\d\\.]+[MG]{0,1}B{0,1}){1,3}</td>\n",
       "    </tr>\n",
       "    <tr>\n",
       "      <th>3</th>\n",
       "      <td>jsheng_提示_1</td>\n",
       "      <td>提示</td>\n",
       "      <td>\\【?(温馨)?提示\\】?(:|：)?(?P&lt;提示&gt;(.*))</td>\n",
       "    </tr>\n",
       "    <tr>\n",
       "      <th>4</th>\n",
       "      <td>jsheng_信用额度_1</td>\n",
       "      <td>信用额度</td>\n",
       "      <td>信用额度(为)?是?(不足)?\\[?(人民币)?(：)?-?(?P&lt;信用额度&gt;[\\d\\.]{...</td>\n",
       "    </tr>\n",
       "    <tr>\n",
       "      <th>5</th>\n",
       "      <td>jsheng_信用额度_2</td>\n",
       "      <td>信用额度</td>\n",
       "      <td>\\[?(人民币)?(：)?-?(?P&lt;信用额度&gt;[\\d\\.]{1,})\\]?[元角分]?信用额度</td>\n",
       "    </tr>\n",
       "    <tr>\n",
       "      <th>6</th>\n",
       "      <td>jsheng_欠费金额_1</td>\n",
       "      <td>欠费金额</td>\n",
       "      <td>欠费(为)?是?不足?(人民币)?(：)?-?(?P&lt;欠费金额&gt;[\\d\\.]{1,}[元角分])</td>\n",
       "    </tr>\n",
       "    <tr>\n",
       "      <th>7</th>\n",
       "      <td>jsheng_透支额度_1</td>\n",
       "      <td>透支额度</td>\n",
       "      <td>透支额度(还剩)?(：)?-?\\[?(人民币)?(：)?-?(?P&lt;透支金额&gt;[\\d\\.]{...</td>\n",
       "    </tr>\n",
       "    <tr>\n",
       "      <th>8</th>\n",
       "      <td>jsheng_流量已使用_1</td>\n",
       "      <td>流量已使用</td>\n",
       "      <td>流量(套餐)?已使用(?P&lt;流量已使用&gt;[\\d\\.]+[MG]{0,1}B{0,1}){1,3})</td>\n",
       "    </tr>\n",
       "    <tr>\n",
       "      <th>9</th>\n",
       "      <td>jsheng_话费已使用_1</td>\n",
       "      <td>话费已使用</td>\n",
       "      <td>(已)?(使用)?话费(已使用)?(为)?(：)?\\[?(人民币)?(：)?-?(?P&lt;话费...</td>\n",
       "    </tr>\n",
       "    <tr>\n",
       "      <th>10</th>\n",
       "      <td>jsheng_实时话费_1</td>\n",
       "      <td>实时话费</td>\n",
       "      <td>实时话费(总额)?(为)?\\[?(人民币)?(：)?-?(?P&lt;实时话费&gt;[\\d\\.]{1,...</td>\n",
       "    </tr>\n",
       "    <tr>\n",
       "      <th>11</th>\n",
       "      <td>jsheng_有效期_1</td>\n",
       "      <td>有效期</td>\n",
       "      <td>有效期(截至|至|截止)(?P&lt;有效期&gt;(\\d{4,4}年)?(\\d{1,2}月)(\\d{1...</td>\n",
       "    </tr>\n",
       "    <tr>\n",
       "      <th>12</th>\n",
       "      <td>jsheng_账户余额_1</td>\n",
       "      <td>账户余额</td>\n",
       "      <td>账户余额(-)?为?是?(不足)?(人民币)?(：)?-?(?P&lt;账户余额&gt;[\\d\\.]{1...</td>\n",
       "    </tr>\n",
       "  </tbody>\n",
       "</table>\n",
       "</div>"
      ],
      "text/plain": [
       "               key cn_key                                                 re\n",
       "0    jsheng_话费余额_1   话费余额  (可用余额|余额不足|账户余额|话费余额|当前余额|余额)-?为?是?(不足)?(人民币)?...\n",
       "1    jsheng_截止时间_1   截止时间  截[至止](?P<截止时间>(\\d{4,4}年)?(\\d{1,2}月)(\\d{1,2}日)?...\n",
       "2      jsheng_剩余_1     剩余    (省内|国内)?流量(还)?剩?余?([\\d\\.]+[MG]{0,1}B{0,1}){1,3}\n",
       "3      jsheng_提示_1     提示                    \\【?(温馨)?提示\\】?(:|：)?(?P<提示>(.*))\n",
       "4    jsheng_信用额度_1   信用额度  信用额度(为)?是?(不足)?\\[?(人民币)?(：)?-?(?P<信用额度>[\\d\\.]{...\n",
       "5    jsheng_信用额度_2   信用额度   \\[?(人民币)?(：)?-?(?P<信用额度>[\\d\\.]{1,})\\]?[元角分]?信用额度\n",
       "6    jsheng_欠费金额_1   欠费金额   欠费(为)?是?不足?(人民币)?(：)?-?(?P<欠费金额>[\\d\\.]{1,}[元角分])\n",
       "7    jsheng_透支额度_1   透支额度  透支额度(还剩)?(：)?-?\\[?(人民币)?(：)?-?(?P<透支金额>[\\d\\.]{...\n",
       "8   jsheng_流量已使用_1  流量已使用  流量(套餐)?已使用(?P<流量已使用>[\\d\\.]+[MG]{0,1}B{0,1}){1,3})\n",
       "9   jsheng_话费已使用_1  话费已使用  (已)?(使用)?话费(已使用)?(为)?(：)?\\[?(人民币)?(：)?-?(?P<话费...\n",
       "10   jsheng_实时话费_1   实时话费  实时话费(总额)?(为)?\\[?(人民币)?(：)?-?(?P<实时话费>[\\d\\.]{1,...\n",
       "11    jsheng_有效期_1    有效期  有效期(截至|至|截止)(?P<有效期>(\\d{4,4}年)?(\\d{1,2}月)(\\d{1...\n",
       "12   jsheng_账户余额_1   账户余额  账户余额(-)?为?是?(不足)?(人民币)?(：)?-?(?P<账户余额>[\\d\\.]{1..."
      ]
     },
     "execution_count": 28,
     "metadata": {},
     "output_type": "execute_result"
    }
   ],
   "source": [
    "pd.read_csv(files_path[-1])"
   ]
  },
  {
   "cell_type": "code",
   "execution_count": 29,
   "metadata": {},
   "outputs": [
    {
     "name": "stderr",
     "output_type": "stream",
     "text": [
      "/home/shiqundong/miniconda3/lib/python3.6/site-packages/ipykernel_launcher.py:1: FutureWarning: Sorting because non-concatenation axis is not aligned. A future version\n",
      "of pandas will change to not sort by default.\n",
      "\n",
      "To accept the future behavior, pass 'sort=False'.\n",
      "\n",
      "To retain the current behavior and silence the warning, pass 'sort=True'.\n",
      "\n",
      "  \"\"\"Entry point for launching an IPython kernel.\n"
     ]
    }
   ],
   "source": [
    "data = pd.concat([pd.read_csv(item) for item in files_path],ignore_index=True)"
   ]
  },
  {
   "cell_type": "code",
   "execution_count": 30,
   "metadata": {},
   "outputs": [],
   "source": [
    "data.to_csv('data/kre.csv', index=False)"
   ]
  },
  {
   "cell_type": "code",
   "execution_count": 20,
   "metadata": {},
   "outputs": [
    {
     "data": {
      "text/plain": [
       "'截[至止].*?(?P<sqd_deadtime>(\\\\d{4}年)?(\\\\d{1,2}月)?(\\\\d{1,2}日)(\\\\d{1,2}[时点])?(\\\\d{1,2}分)?(\\\\d秒)?)'"
      ]
     },
     "execution_count": 20,
     "metadata": {},
     "output_type": "execute_result"
    }
   ],
   "source": [
    "data.loc[0]['re']"
   ]
  },
  {
   "cell_type": "code",
   "execution_count": 23,
   "metadata": {},
   "outputs": [],
   "source": [
    "a = {}\n",
    "b = {'s':1}\n",
    "a.update(b)"
   ]
  },
  {
   "cell_type": "code",
   "execution_count": 26,
   "metadata": {},
   "outputs": [
    {
     "data": {
      "text/plain": [
       "{'s': 1}"
      ]
     },
     "execution_count": 26,
     "metadata": {},
     "output_type": "execute_result"
    }
   ],
   "source": [
    "b"
   ]
  }
 ],
 "metadata": {
  "kernelspec": {
   "display_name": "Python 3",
   "language": "python",
   "name": "python3"
  },
  "language_info": {
   "codemirror_mode": {
    "name": "ipython",
    "version": 3
   },
   "file_extension": ".py",
   "mimetype": "text/x-python",
   "name": "python",
   "nbconvert_exporter": "python",
   "pygments_lexer": "ipython3",
   "version": "3.6.5"
  },
  "varInspector": {
   "cols": {
    "lenName": 16,
    "lenType": 16,
    "lenVar": 40
   },
   "kernels_config": {
    "python": {
     "delete_cmd_postfix": "",
     "delete_cmd_prefix": "del ",
     "library": "var_list.py",
     "varRefreshCmd": "print(var_dic_list())"
    },
    "r": {
     "delete_cmd_postfix": ") ",
     "delete_cmd_prefix": "rm(",
     "library": "var_list.r",
     "varRefreshCmd": "cat(var_dic_list()) "
    }
   },
   "types_to_exclude": [
    "module",
    "function",
    "builtin_function_or_method",
    "instance",
    "_Feature"
   ],
   "window_display": false
  }
 },
 "nbformat": 4,
 "nbformat_minor": 2
}
