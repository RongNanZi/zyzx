{
 "cells": [
  {
   "cell_type": "markdown",
   "metadata": {},
   "source": [
    "- # 从get_result文件导入已经写好的读取kv值的方法\n",
    "- # 导入要解析的短信文本数据"
   ]
  },
  {
   "cell_type": "code",
   "execution_count": null,
   "metadata": {},
   "outputs": [],
   "source": [
    "import pandas as pd\n",
    "from get_result import *\n",
    "sms_data = pd.read_csv('data/after_filter.csv')"
   ]
  },
  {
   "cell_type": "markdown",
   "metadata": {},
   "source": [
    "# 先调用之前的正则表达式文件先进行匹配，如果能够匹配到短句的信息就直接跳过，增加i,处理下一个句子"
   ]
  },
  {
   "cell_type": "code",
   "execution_count": 7,
   "metadata": {},
   "outputs": [
    {
     "name": "stdout",
     "output_type": "stream",
     "text": [
      "--------------------------------------------------短句--------------------------------------------------\n",
      "月手机账单：月日至月日，优惠后个人实际消费.元，合计.元。查询结果仅供参考，具体以出账结果为准。查明细回复至或登录手机营业厅http://dx..cn/gjdxsy 【中国移动】\n",
      "----------------------------------------------------------------------------------------------------\n",
      "长句：03月手机账单：03月1日至03月05日，优惠后个人实际消费2.96元，合计2.96元。查询结果仅供参考，具体以出账结果为准。查明细回复18至10086或登录手机营业厅http://dx.10086.cn/gjdxsy 【中国移动】\n",
      "====================================================================================================\n",
      "消费金额 : 2.96元\n",
      "截止时间 : 03月05日\n"
     ]
    }
   ],
   "source": [
    "i = 0\n",
    "raw_sentence = sms_data.loc[i]['原句']\n",
    "print('-'*50+'短句'+'-'*50+'\\n%s\\n'%(sms_data.loc[i]['短句'])+'-'*100+'\\n长句：%s'%(raw_sentence))\n",
    "result = get_result(raw_sentence, kre_path='data/kre_914.csv')\n",
    "print('='*100)\n",
    "for k,v in result.items():\n",
    "    print('{} : {}'.format(k, v))"
   ]
  },
  {
   "cell_type": "markdown",
   "metadata": {},
   "source": [
    "## 对将要写入的正则表达式的cn_key进行一个判断，以防不在规定的cn_key集合内\n",
    "## 显示当前文件中cn_key对应的key的命名，以免key命名冲突"
   ]
  },
  {
   "cell_type": "code",
   "execution_count": 10,
   "metadata": {},
   "outputs": [
    {
     "name": "stdout",
     "output_type": "stream",
     "text": [
      "True\n"
     ]
    }
   ],
   "source": [
    "cn_key_set = ['可兑换积分','截止时间','缴费金额','缴费时间','话费余额','缴费渠道','充值号码',\\\n",
    "              '被充值号码','订单号','流水号','消费金额','账单月份','账户余额','备注']\n",
    "cn_key  = '账单月份'\n",
    "print(cn_key in cn_key_set)\n",
    "kre = pd.read_csv('data/kre_914.csv')\n",
    "for i in kre.index:\n",
    "    if cn_key == kre.loc[i]['cn_key']:\n",
    "        print(kre.loc[i]['key'])"
   ]
  },
  {
   "cell_type": "code",
   "execution_count": 11,
   "metadata": {},
   "outputs": [
    {
     "name": "stdout",
     "output_type": "stream",
     "text": [
      "<_sre.SRE_Match object; span=(0, 7), match='03月手机账单'>\n",
      "----------------------------------------------\n",
      "        sqd_bill_month : 03月\n",
      " -----------------------------------------------\n"
     ]
    }
   ],
   "source": [
    "import re\n",
    "key = 'sqd_bill_month'\n",
    "re_express = '(?P<{}>\\d+.*?月)手机账单'.format(key)\n",
    "find =re.search(re_express, raw_sentence)\n",
    "if find:\n",
    "    print(find)\n",
    "    print('----------------------------------------------\\n\\\n",
    "        {} : {}\\n -----------------------------------------------'.format(key, find.group(key)))\n",
    "else:\n",
    "    print('not find')\n"
   ]
  },
  {
   "cell_type": "markdown",
   "metadata": {},
   "source": [
    "# 把内容保存到kre数据中，其中last_commit是该句正则表达式所影响的句子，为以后改动正则表达式测试用"
   ]
  },
  {
   "cell_type": "code",
   "execution_count": 14,
   "metadata": {},
   "outputs": [],
   "source": [
    "kre.loc[kre.index[-1]+1] =  {'key':key,\n",
    "        'cn_key':cn_key,\n",
    "        're':re_express,\n",
    "        'last_commit':'原文ID:{}'.format(sms_data.loc[i]['原文ID'])}"
   ]
  },
  {
   "cell_type": "code",
   "execution_count": 15,
   "metadata": {},
   "outputs": [
    {
     "data": {
      "text/html": [
       "<div>\n",
       "<style scoped>\n",
       "    .dataframe tbody tr th:only-of-type {\n",
       "        vertical-align: middle;\n",
       "    }\n",
       "\n",
       "    .dataframe tbody tr th {\n",
       "        vertical-align: top;\n",
       "    }\n",
       "\n",
       "    .dataframe thead th {\n",
       "        text-align: right;\n",
       "    }\n",
       "</style>\n",
       "<table border=\"1\" class=\"dataframe\">\n",
       "  <thead>\n",
       "    <tr style=\"text-align: right;\">\n",
       "      <th></th>\n",
       "      <th>cn_key</th>\n",
       "      <th>key</th>\n",
       "      <th>last_commit</th>\n",
       "      <th>re</th>\n",
       "    </tr>\n",
       "  </thead>\n",
       "  <tbody>\n",
       "    <tr>\n",
       "      <th>0</th>\n",
       "      <td>截止时间</td>\n",
       "      <td>sqd_deadtime</td>\n",
       "      <td>[49]</td>\n",
       "      <td>截[至止].*?(?P&lt;sqd_deadtime&gt;(\\d{4}年)?(\\d{1,2}月)?(...</td>\n",
       "    </tr>\n",
       "    <tr>\n",
       "      <th>1</th>\n",
       "      <td>话费余额</td>\n",
       "      <td>sqd_call_balance</td>\n",
       "      <td>NaN</td>\n",
       "      <td>话费余额[：为是]?(?P&lt;sqd_call_balance&gt;.*?[元块￥])</td>\n",
       "    </tr>\n",
       "    <tr>\n",
       "      <th>2</th>\n",
       "      <td>话费余额</td>\n",
       "      <td>sqd_family_call_balance</td>\n",
       "      <td>NaN</td>\n",
       "      <td>家庭帐户.*余额[:为是](?P&lt;sqd_family_call_balance&gt;-?\\d+...</td>\n",
       "    </tr>\n",
       "    <tr>\n",
       "      <th>3</th>\n",
       "      <td>消费金额</td>\n",
       "      <td>sqd_family_call_cost</td>\n",
       "      <td>NaN</td>\n",
       "      <td>家庭帐户.*消费[:为是]?(?P&lt;sqd_family_call_cost&gt;-?\\d+\\....</td>\n",
       "    </tr>\n",
       "    <tr>\n",
       "      <th>4</th>\n",
       "      <td>话费余额</td>\n",
       "      <td>sqd_call_balance2</td>\n",
       "      <td>[30]</td>\n",
       "      <td>总余额.*?(?P&lt;sqd_call_balance2&gt;\\d+.*?[元块￥])</td>\n",
       "    </tr>\n",
       "    <tr>\n",
       "      <th>5</th>\n",
       "      <td>话费余额</td>\n",
       "      <td>sqd_call_balance1</td>\n",
       "      <td>[40]</td>\n",
       "      <td>可用余额[为是]?：?(?P&lt;sqd_call_balance1&gt;-?\\d+.*?[元块￥])</td>\n",
       "    </tr>\n",
       "    <tr>\n",
       "      <th>6</th>\n",
       "      <td>账户余额</td>\n",
       "      <td>sqd_account_balance</td>\n",
       "      <td>[67]</td>\n",
       "      <td>账户余额[：为是]?(?P&lt;sqd_account_balance&gt;\\d+.*?[元块￥])</td>\n",
       "    </tr>\n",
       "    <tr>\n",
       "      <th>7</th>\n",
       "      <td>话费余额</td>\n",
       "      <td>ldd_charge_balance</td>\n",
       "      <td>NaN</td>\n",
       "      <td>(话费)?余额还?剩?余?(为|是)?(:|：)?(?P&lt;ldd_charge_balanc...</td>\n",
       "    </tr>\n",
       "    <tr>\n",
       "      <th>8</th>\n",
       "      <td>消费金额</td>\n",
       "      <td>ldd_charge_amount</td>\n",
       "      <td>NaN</td>\n",
       "      <td>(消费|产生话费)(:|：)?(?P&lt;ldd_charge_amount&gt;[\\d.]+[元角...</td>\n",
       "    </tr>\n",
       "    <tr>\n",
       "      <th>9</th>\n",
       "      <td>缴费渠道</td>\n",
       "      <td>ldd_payment_channel</td>\n",
       "      <td>NaN</td>\n",
       "      <td>通过(?P&lt;ldd_payment_channel&gt;.*?)(及时)?[冲缴交充]值.{0,...</td>\n",
       "    </tr>\n",
       "    <tr>\n",
       "      <th>10</th>\n",
       "      <td>截止时间</td>\n",
       "      <td>ldd_time</td>\n",
       "      <td>NaN</td>\n",
       "      <td>(?P&lt;ldd_time&gt;(\\d{4}年)?(\\d{1,2}|本)月\\d{1,2}日(\\d{...</td>\n",
       "    </tr>\n",
       "    <tr>\n",
       "      <th>11</th>\n",
       "      <td>缴费金额</td>\n",
       "      <td>ldd_payment</td>\n",
       "      <td>NaN</td>\n",
       "      <td>(充|冲)值.{0,3}(?P&lt;ldd_payment&gt;[\\d.]+元)</td>\n",
       "    </tr>\n",
       "    <tr>\n",
       "      <th>12</th>\n",
       "      <td>话费余额</td>\n",
       "      <td>ldd_charge_balance</td>\n",
       "      <td>NaN</td>\n",
       "      <td>(话费)?总?余额(已经)?只?还?剩?余?(为|是|了)?(:|：)?(?P&lt;ldd_ch...</td>\n",
       "    </tr>\n",
       "    <tr>\n",
       "      <th>13</th>\n",
       "      <td>消费金额</td>\n",
       "      <td>ldd_charge_amount</td>\n",
       "      <td>NaN</td>\n",
       "      <td>(消费|产生话费)(合计)?(:|：)?\\(?(?P&lt;ldd_charge_amount&gt;[...</td>\n",
       "    </tr>\n",
       "    <tr>\n",
       "      <th>14</th>\n",
       "      <td>缴费渠道</td>\n",
       "      <td>ldd_payment_channel</td>\n",
       "      <td>NaN</td>\n",
       "      <td>通过(?P&lt;ldd_payment_channel&gt;.*?)(及时)?[冲缴交充](值|纳)...</td>\n",
       "    </tr>\n",
       "    <tr>\n",
       "      <th>15</th>\n",
       "      <td>截止时间</td>\n",
       "      <td>ldd_time</td>\n",
       "      <td>NaN</td>\n",
       "      <td>(截.|至|到|于|您|在|，|,|\\.|。)\\s?(?P&lt;ldd_time&gt;(\\d{4}年...</td>\n",
       "    </tr>\n",
       "    <tr>\n",
       "      <th>16</th>\n",
       "      <td>缴费金额</td>\n",
       "      <td>ldd_payment</td>\n",
       "      <td>NaN</td>\n",
       "      <td>(充|冲|交)(值|入|进)?话?费?(金额)?(为|是)?(：|:)?(?P&lt;ldd_pa...</td>\n",
       "    </tr>\n",
       "    <tr>\n",
       "      <th>17</th>\n",
       "      <td>话费余额</td>\n",
       "      <td>jsheng_话费余额_1</td>\n",
       "      <td>NaN</td>\n",
       "      <td>(可用余额|余额不足|账户余额|话费余额|当前余额|余额)-?为?是?(不足)?(人民币)?...</td>\n",
       "    </tr>\n",
       "    <tr>\n",
       "      <th>18</th>\n",
       "      <td>截止时间</td>\n",
       "      <td>jsheng_截止时间_1</td>\n",
       "      <td>NaN</td>\n",
       "      <td>截[至止](?P&lt;截止时间&gt;(\\d{4,4}年)?(\\d{1,2}月)(\\d{1,2}日)?...</td>\n",
       "    </tr>\n",
       "    <tr>\n",
       "      <th>19</th>\n",
       "      <td>账户余额</td>\n",
       "      <td>jsheng_账户余额_1</td>\n",
       "      <td>NaN</td>\n",
       "      <td>账户余额(-)?为?是?(不足)?(人民币)?(：)?-?(?P&lt;账户余额&gt;[\\d\\.]{1...</td>\n",
       "    </tr>\n",
       "    <tr>\n",
       "      <th>20</th>\n",
       "      <td>备注</td>\n",
       "      <td>jsheng_备注_1</td>\n",
       "      <td>NaN</td>\n",
       "      <td>备注[:：](?P&lt;备注&gt;(.*))</td>\n",
       "    </tr>\n",
       "    <tr>\n",
       "      <th>21</th>\n",
       "      <td>可兑换积分</td>\n",
       "      <td>jsheng_可兑换积分_1</td>\n",
       "      <td>NaN</td>\n",
       "      <td>可兑换积分(为)?是?(：)?-?(?P&lt;可兑换积分&gt;[\\d]{1})</td>\n",
       "    </tr>\n",
       "    <tr>\n",
       "      <th>22</th>\n",
       "      <td>可兑换积分</td>\n",
       "      <td>lyj_points</td>\n",
       "      <td>NaN</td>\n",
       "      <td>总积分为?(?P&lt;lyj_points&gt;[\\d\\.]+)</td>\n",
       "    </tr>\n",
       "    <tr>\n",
       "      <th>23</th>\n",
       "      <td>截止时间</td>\n",
       "      <td>lyj_deadline</td>\n",
       "      <td>NaN</td>\n",
       "      <td>截至(?P&lt;lyj_deadline&gt;(\\d{4,4}年)?\\d{1,2}月\\d{1,2}日...</td>\n",
       "    </tr>\n",
       "    <tr>\n",
       "      <th>24</th>\n",
       "      <td>账单月份</td>\n",
       "      <td>sqd_bill_month</td>\n",
       "      <td>原文ID:26379</td>\n",
       "      <td>(?P&lt;sqd_bill_month&gt;\\d+.*?月)手机账单</td>\n",
       "    </tr>\n",
       "  </tbody>\n",
       "</table>\n",
       "</div>"
      ],
      "text/plain": [
       "   cn_key                      key last_commit  \\\n",
       "0    截止时间             sqd_deadtime        [49]   \n",
       "1    话费余额         sqd_call_balance         NaN   \n",
       "2    话费余额  sqd_family_call_balance         NaN   \n",
       "3    消费金额     sqd_family_call_cost         NaN   \n",
       "4    话费余额        sqd_call_balance2        [30]   \n",
       "5    话费余额        sqd_call_balance1        [40]   \n",
       "6    账户余额      sqd_account_balance        [67]   \n",
       "7    话费余额       ldd_charge_balance         NaN   \n",
       "8    消费金额        ldd_charge_amount         NaN   \n",
       "9    缴费渠道      ldd_payment_channel         NaN   \n",
       "10   截止时间                 ldd_time         NaN   \n",
       "11   缴费金额              ldd_payment         NaN   \n",
       "12   话费余额       ldd_charge_balance         NaN   \n",
       "13   消费金额        ldd_charge_amount         NaN   \n",
       "14   缴费渠道      ldd_payment_channel         NaN   \n",
       "15   截止时间                 ldd_time         NaN   \n",
       "16   缴费金额              ldd_payment         NaN   \n",
       "17   话费余额            jsheng_话费余额_1         NaN   \n",
       "18   截止时间            jsheng_截止时间_1         NaN   \n",
       "19   账户余额            jsheng_账户余额_1         NaN   \n",
       "20     备注              jsheng_备注_1         NaN   \n",
       "21  可兑换积分           jsheng_可兑换积分_1         NaN   \n",
       "22  可兑换积分               lyj_points         NaN   \n",
       "23   截止时间             lyj_deadline         NaN   \n",
       "24   账单月份           sqd_bill_month  原文ID:26379   \n",
       "\n",
       "                                                   re  \n",
       "0   截[至止].*?(?P<sqd_deadtime>(\\d{4}年)?(\\d{1,2}月)?(...  \n",
       "1            话费余额[：为是]?(?P<sqd_call_balance>.*?[元块￥])  \n",
       "2   家庭帐户.*余额[:为是](?P<sqd_family_call_balance>-?\\d+...  \n",
       "3   家庭帐户.*消费[:为是]?(?P<sqd_family_call_cost>-?\\d+\\....  \n",
       "4            总余额.*?(?P<sqd_call_balance2>\\d+.*?[元块￥])  \n",
       "5     可用余额[为是]?：?(?P<sqd_call_balance1>-?\\d+.*?[元块￥])  \n",
       "6      账户余额[：为是]?(?P<sqd_account_balance>\\d+.*?[元块￥])  \n",
       "7   (话费)?余额还?剩?余?(为|是)?(:|：)?(?P<ldd_charge_balanc...  \n",
       "8   (消费|产生话费)(:|：)?(?P<ldd_charge_amount>[\\d.]+[元角...  \n",
       "9   通过(?P<ldd_payment_channel>.*?)(及时)?[冲缴交充]值.{0,...  \n",
       "10  (?P<ldd_time>(\\d{4}年)?(\\d{1,2}|本)月\\d{1,2}日(\\d{...  \n",
       "11               (充|冲)值.{0,3}(?P<ldd_payment>[\\d.]+元)  \n",
       "12  (话费)?总?余额(已经)?只?还?剩?余?(为|是|了)?(:|：)?(?P<ldd_ch...  \n",
       "13  (消费|产生话费)(合计)?(:|：)?\\(?(?P<ldd_charge_amount>[...  \n",
       "14  通过(?P<ldd_payment_channel>.*?)(及时)?[冲缴交充](值|纳)...  \n",
       "15  (截.|至|到|于|您|在|，|,|\\.|。)\\s?(?P<ldd_time>(\\d{4}年...  \n",
       "16  (充|冲|交)(值|入|进)?话?费?(金额)?(为|是)?(：|:)?(?P<ldd_pa...  \n",
       "17  (可用余额|余额不足|账户余额|话费余额|当前余额|余额)-?为?是?(不足)?(人民币)?...  \n",
       "18  截[至止](?P<截止时间>(\\d{4,4}年)?(\\d{1,2}月)(\\d{1,2}日)?...  \n",
       "19  账户余额(-)?为?是?(不足)?(人民币)?(：)?-?(?P<账户余额>[\\d\\.]{1...  \n",
       "20                                 备注[:：](?P<备注>(.*))  \n",
       "21                可兑换积分(为)?是?(：)?-?(?P<可兑换积分>[\\d]{1})  \n",
       "22                       总积分为?(?P<lyj_points>[\\d\\.]+)  \n",
       "23  截至(?P<lyj_deadline>(\\d{4,4}年)?\\d{1,2}月\\d{1,2}日...  \n",
       "24                    (?P<sqd_bill_month>\\d+.*?月)手机账单  "
      ]
     },
     "execution_count": 15,
     "metadata": {},
     "output_type": "execute_result"
    }
   ],
   "source": [
    "kre"
   ]
  },
  {
   "cell_type": "code",
   "execution_count": 16,
   "metadata": {},
   "outputs": [],
   "source": [
    "kre.to_csv('data/kre_914.csv', index=False)"
   ]
  },
  {
   "cell_type": "code",
   "execution_count": null,
   "metadata": {},
   "outputs": [],
   "source": []
  }
 ],
 "metadata": {
  "kernelspec": {
   "display_name": "Python 3",
   "language": "python",
   "name": "python3"
  },
  "language_info": {
   "codemirror_mode": {
    "name": "ipython",
    "version": 3
   },
   "file_extension": ".py",
   "mimetype": "text/x-python",
   "name": "python",
   "nbconvert_exporter": "python",
   "pygments_lexer": "ipython3",
   "version": "3.6.5"
  },
  "varInspector": {
   "cols": {
    "lenName": 16,
    "lenType": 16,
    "lenVar": 40
   },
   "kernels_config": {
    "python": {
     "delete_cmd_postfix": "",
     "delete_cmd_prefix": "del ",
     "library": "var_list.py",
     "varRefreshCmd": "print(var_dic_list())"
    },
    "r": {
     "delete_cmd_postfix": ") ",
     "delete_cmd_prefix": "rm(",
     "library": "var_list.r",
     "varRefreshCmd": "cat(var_dic_list()) "
    }
   },
   "oldHeight": 489.73978,
   "position": {
    "height": "40px",
    "left": "1501.32px",
    "right": "20px",
    "top": "37.9965px",
    "width": "637.778px"
   },
   "types_to_exclude": [
    "module",
    "function",
    "builtin_function_or_method",
    "instance",
    "_Feature"
   ],
   "varInspector_section_display": "none",
   "window_display": true
  }
 },
 "nbformat": 4,
 "nbformat_minor": 2
}
