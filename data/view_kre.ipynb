{
 "cells": [
  {
   "cell_type": "code",
   "execution_count": 1,
   "metadata": {},
   "outputs": [],
   "source": [
    "import pandas as pd\n",
    "k_re = pd.read_csv('sqd_kre.csv')"
   ]
  },
  {
   "cell_type": "code",
   "execution_count": 3,
   "metadata": {},
   "outputs": [
    {
     "data": {
      "text/html": [
       "<div>\n",
       "<style scoped>\n",
       "    .dataframe tbody tr th:only-of-type {\n",
       "        vertical-align: middle;\n",
       "    }\n",
       "\n",
       "    .dataframe tbody tr th {\n",
       "        vertical-align: top;\n",
       "    }\n",
       "\n",
       "    .dataframe thead th {\n",
       "        text-align: right;\n",
       "    }\n",
       "</style>\n",
       "<table border=\"1\" class=\"dataframe\">\n",
       "  <thead>\n",
       "    <tr style=\"text-align: right;\">\n",
       "      <th></th>\n",
       "      <th>key</th>\n",
       "      <th>cn_key</th>\n",
       "      <th>re</th>\n",
       "    </tr>\n",
       "  </thead>\n",
       "  <tbody>\n",
       "    <tr>\n",
       "      <th>0</th>\n",
       "      <td>sence</td>\n",
       "      <td>场景</td>\n",
       "      <td>【(?P&lt;sence&gt;.+)】</td>\n",
       "    </tr>\n",
       "    <tr>\n",
       "      <th>1</th>\n",
       "      <td>time</td>\n",
       "      <td>时间</td>\n",
       "      <td>(?P&lt;time&gt;(\\d{4}年)?\\d{1,2}月\\d{1,2}日\\d{1,2}[时点]\\...</td>\n",
       "    </tr>\n",
       "    <tr>\n",
       "      <th>2</th>\n",
       "      <td>consume</td>\n",
       "      <td>消费金额</td>\n",
       "      <td>消费为?是?：?(?P&lt;consume&gt;.+?[元角分￥])</td>\n",
       "    </tr>\n",
       "    <tr>\n",
       "      <th>3</th>\n",
       "      <td>balance</td>\n",
       "      <td>余额</td>\n",
       "      <td>余额[为是]：?(?P&lt;balance&gt;.+?[元分角￥])</td>\n",
       "    </tr>\n",
       "    <tr>\n",
       "      <th>4</th>\n",
       "      <td>used_tranffic</td>\n",
       "      <td>使用流量</td>\n",
       "      <td>已使用.*(流量)+(?P&lt;used_tranffic&gt;\\d+.?\\d+?[MG])</td>\n",
       "    </tr>\n",
       "  </tbody>\n",
       "</table>\n",
       "</div>"
      ],
      "text/plain": [
       "             key cn_key                                                 re\n",
       "0          sence     场景                                    【(?P<sence>.+)】\n",
       "1           time     时间  (?P<time>(\\d{4}年)?\\d{1,2}月\\d{1,2}日\\d{1,2}[时点]\\...\n",
       "2        consume   消费金额                     消费为?是?：?(?P<consume>.+?[元角分￥])\n",
       "3        balance     余额                     余额[为是]：?(?P<balance>.+?[元分角￥])\n",
       "4  used_tranffic   使用流量         已使用.*(流量)+(?P<used_tranffic>\\d+.?\\d+?[MG])"
      ]
     },
     "execution_count": 3,
     "metadata": {},
     "output_type": "execute_result"
    }
   ],
   "source": [
    "k_re"
   ]
  },
  {
   "cell_type": "code",
   "execution_count": 5,
   "metadata": {},
   "outputs": [
    {
     "data": {
      "text/plain": [
       "{'sence': '【(?P<sence>.+)】',\n",
       " 'time': '(?P<time>(\\\\d{4}年)?\\\\d{1,2}月\\\\d{1,2}日\\\\d{1,2}[时点]\\\\d{1,2}分(\\\\d秒)?)',\n",
       " 'consume': '消费为?是?：?(?P<consume>.+?[元角分￥])',\n",
       " 'balance': '余额[为是]：?(?P<balance>.+?[元分角￥])',\n",
       " 'used_tranffic': '已使用.*(流量)+(?P<used_tranffic>\\\\d+.?\\\\d+?[MG])'}"
      ]
     },
     "execution_count": 5,
     "metadata": {},
     "output_type": "execute_result"
    }
   ],
   "source": [
    "k_re_dict = dict(zip(k_re['key'].values, k_re['re'].values))\n",
    "k_re_dict"
   ]
  },
  {
   "cell_type": "code",
   "execution_count": 13,
   "metadata": {},
   "outputs": [
    {
     "name": "stdout",
     "output_type": "stream",
     "text": [
      "------------------------\n",
      "                sence : 话费流量提醒\n",
      "------------------------\n",
      "                time : 07月04日16时08分\n",
      "------------------------\n",
      "                consume : 10.05元\n",
      "------------------------\n",
      "                balance : 4.88元\n",
      "------------------------\n",
      "                used_tranffic : 0.00M\n",
      "raw :10086|【话费流量提醒】您好！截至07月04日16时08分，您当月已消费：10.05元，您的话费余额为：4.88元。已使用移动数据流量0.00M。其中国内高速流量剩余20.00M，赠送30M国内流量(4G飞享8元套餐)剩余30.00M。回复666可调整您的话费提醒频次。#\n",
      "\n",
      " after processed line : 10086|${txt_场景}您好！截至${txt_时间}，您当月已${txt_消费金额}，您的话费${txt_余额}。${txt_使用流量}。其中国内高速流量剩余20.00M，赠送30M国内流量(4G飞享8元套餐)剩余30.00M。回复666可调整您的话费提醒频次。#\n",
      "\n",
      " ======================================\n",
      "\n",
      "------------------------\n",
      "                sence : 话费流量提醒\n",
      "------------------------\n",
      "                time : 07月04日10时57分\n",
      "------------------------\n",
      "                consume : 7.05元\n",
      "------------------------\n",
      "                balance : 78.75元\n",
      "------------------------\n",
      "                used_tranffic : 0.00M\n",
      "raw :10086|【话费流量提醒】您好！截至07月04日10时57分，您当月已消费：7.05元，您的话费余额为：78.75元。已使用移动数据流量0.00M。其中赠送30M国内流量(4G飞享8元套餐)剩余30.00M。回复666可调整您的话费提醒频次。#\n",
      "\n",
      " after processed line : 10086|${txt_场景}您好！截至${txt_时间}，您当月已${txt_消费金额}，您的话费${txt_余额}。${txt_使用流量}。其中赠送30M国内流量(4G飞享8元套餐)剩余30.00M。回复666可调整您的话费提醒频次。#\n",
      "\n",
      " ======================================\n",
      "\n"
     ]
    }
   ],
   "source": [
    "import re\n",
    "k_cn_dict = dict(zip(k_re['key'].values, k_re['cn_key'].values))\n",
    "with open('./filtered_sms_sample.txt') as f:\n",
    "    for i in range(2):\n",
    "        line = f.readline()\n",
    "        new_line = line \n",
    "        for k, re_v in k_re_dict.items():\n",
    "            find = re.search(re_v, line)\n",
    "            if find:\n",
    "                print('------------------------\\n\\\n",
    "                {} : {}'.format(k, find.group(k)))\n",
    "                #new_line = re.sub(re_v, u'${txt_%s:\\g<%s>}'%(k,k), new_line)\n",
    "                new_line = re.sub(re_v, u'${txt_%s}'%(k_cn_dict[k]), new_line)\n",
    "        print('raw :{}\\n after processed line : {}\\n ======================================\\n'.format(line, new_line))"
   ]
  },
  {
   "cell_type": "code",
   "execution_count": null,
   "metadata": {},
   "outputs": [],
   "source": []
  }
 ],
 "metadata": {
  "kernelspec": {
   "display_name": "Python 3",
   "language": "python",
   "name": "python3"
  },
  "language_info": {
   "codemirror_mode": {
    "name": "ipython",
    "version": 3
   },
   "file_extension": ".py",
   "mimetype": "text/x-python",
   "name": "python",
   "nbconvert_exporter": "python",
   "pygments_lexer": "ipython3",
   "version": "3.6.5"
  }
 },
 "nbformat": 4,
 "nbformat_minor": 2
}
