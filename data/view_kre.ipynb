{
 "cells": [
  {
   "cell_type": "code",
   "execution_count": 1,
   "metadata": {},
   "outputs": [],
   "source": [
    "import pandas as pd\n",
    "k_re = pd.read_csv('kre.csv')"
   ]
  },
  {
   "cell_type": "code",
   "execution_count": 4,
   "metadata": {},
   "outputs": [
    {
     "name": "stdout",
     "output_type": "stream",
     "text": [
      "sqd_unpaid_fee\n",
      "欠费(?P<sqd_unpaid_fee>.*?[元块￥])\n",
      "ldd_owe\n",
      "(历史)?[^结清]欠费(金额|总额)?(为|是)?(:|：)?(?P<ldd_owe>-?[\\d.]+元?)\n"
     ]
    }
   ],
   "source": [
    "for i  in  k_re.index:\n",
    "    if k_re.loc[i]['cn_key'] == '欠费金额':\n",
    "        print(k_re.loc[i]['key'])\n",
    "        print(k_re.loc[i]['re'])"
   ]
  },
  {
   "cell_type": "code",
   "execution_count": null,
   "metadata": {},
   "outputs": [],
   "source": [
    " k_re"
   ]
  },
  {
   "cell_type": "code",
   "execution_count": 5,
   "metadata": {},
   "outputs": [
    {
     "data": {
      "text/plain": [
       "{'sence': '【(?P<sence>.+)】',\n",
       " 'time': '(?P<time>(\\\\d{4}年)?\\\\d{1,2}月\\\\d{1,2}日\\\\d{1,2}[时点]\\\\d{1,2}分(\\\\d秒)?)',\n",
       " 'consume': '消费为?是?：?(?P<consume>.+?[元角分￥])',\n",
       " 'balance': '余额[为是]：?(?P<balance>.+?[元分角￥])',\n",
       " 'used_tranffic': '已使用.*(流量)+(?P<used_tranffic>\\\\d+.?\\\\d+?[MG])'}"
      ]
     },
     "execution_count": 5,
     "metadata": {},
     "output_type": "execute_result"
    }
   ],
   "source": [
    "k_re_dict = dict(zip(k_re['key'].values, k_re['re'].values))\n",
    "k_re_dict"
   ]
  },
  {
   "cell_type": "code",
   "execution_count": 13,
   "metadata": {},
   "outputs": [
    {
     "name": "stdout",
     "output_type": "stream",
     "text": [
      "------------------------\n",
      "                sence : 话费流量提醒\n",
      "------------------------\n",
      "                time : 07月04日16时08分\n",
      "------------------------\n",
      "                consume : 10.05元\n",
      "------------------------\n",
      "                balance : 4.88元\n",
      "------------------------\n",
      "                used_tranffic : 0.00M\n",
      "raw :10086|【话费流量提醒】您好！截至07月04日16时08分，您当月已消费：10.05元，您的话费余额为：4.88元。已使用移动数据流量0.00M。其中国内高速流量剩余20.00M，赠送30M国内流量(4G飞享8元套餐)剩余30.00M。回复666可调整您的话费提醒频次。#\n",
      "\n",
      " after processed line : 10086|${txt_场景}您好！截至${txt_时间}，您当月已${txt_消费金额}，您的话费${txt_余额}。${txt_使用流量}。其中国内高速流量剩余20.00M，赠送30M国内流量(4G飞享8元套餐)剩余30.00M。回复666可调整您的话费提醒频次。#\n",
      "\n",
      " ======================================\n",
      "\n",
      "------------------------\n",
      "                sence : 话费流量提醒\n",
      "------------------------\n",
      "                time : 07月04日10时57分\n",
      "------------------------\n",
      "                consume : 7.05元\n",
      "------------------------\n",
      "                balance : 78.75元\n",
      "------------------------\n",
      "                used_tranffic : 0.00M\n",
      "raw :10086|【话费流量提醒】您好！截至07月04日10时57分，您当月已消费：7.05元，您的话费余额为：78.75元。已使用移动数据流量0.00M。其中赠送30M国内流量(4G飞享8元套餐)剩余30.00M。回复666可调整您的话费提醒频次。#\n",
      "\n",
      " after processed line : 10086|${txt_场景}您好！截至${txt_时间}，您当月已${txt_消费金额}，您的话费${txt_余额}。${txt_使用流量}。其中赠送30M国内流量(4G飞享8元套餐)剩余30.00M。回复666可调整您的话费提醒频次。#\n",
      "\n",
      " ======================================\n",
      "\n"
     ]
    }
   ],
   "source": [
    "import re\n",
    "k_cn_dict = dict(zip(k_re['key'].values, k_re['cn_key'].values))\n",
    "with open('./filtered_sms_sample.txt') as f:\n",
    "    for i in range(2):\n",
    "        line = f.readline()\n",
    "        new_line = line \n",
    "        for k, re_v in k_re_dict.items():\n",
    "            find = re.search(re_v, line)\n",
    "            if find:\n",
    "                print('------------------------\\n\\\n",
    "                {} : {}'.format(k, find.group(k)))\n",
    "                #new_line = re.sub(re_v, u'${txt_%s:\\g<%s>}'%(k,k), new_line)\n",
    "                new_line = re.sub(re_v, u'${txt_%s}'%(k_cn_dict[k]), new_line)\n",
    "        print('raw :{}\\n after processed line : {}\\n ======================================\\n'.format(line, new_line))"
   ]
  },
  {
   "cell_type": "code",
   "execution_count": null,
   "metadata": {},
   "outputs": [],
   "source": []
  }
 ],
 "metadata": {
  "kernelspec": {
   "display_name": "Python 3",
   "language": "python",
   "name": "python3"
  },
  "language_info": {
   "codemirror_mode": {
    "name": "ipython",
    "version": 3
   },
   "file_extension": ".py",
   "mimetype": "text/x-python",
   "name": "python",
   "nbconvert_exporter": "python",
   "pygments_lexer": "ipython3",
   "version": "3.6.5"
  },
  "varInspector": {
   "cols": {
    "lenName": 16,
    "lenType": 16,
    "lenVar": 40
   },
   "kernels_config": {
    "python": {
     "delete_cmd_postfix": "",
     "delete_cmd_prefix": "del ",
     "library": "var_list.py",
     "varRefreshCmd": "print(var_dic_list())"
    },
    "r": {
     "delete_cmd_postfix": ") ",
     "delete_cmd_prefix": "rm(",
     "library": "var_list.r",
     "varRefreshCmd": "cat(var_dic_list()) "
    }
   },
   "types_to_exclude": [
    "module",
    "function",
    "builtin_function_or_method",
    "instance",
    "_Feature"
   ],
   "window_display": false
  }
 },
 "nbformat": 4,
 "nbformat_minor": 2
}
