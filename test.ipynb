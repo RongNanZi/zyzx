{
 "cells": [
  {
   "cell_type": "code",
   "execution_count": 2,
   "metadata": {
    "scrolled": true
   },
   "outputs": [],
   "source": [
    "import pandas as pd\n",
    "import re\n",
    "from get_result import *\n",
    "sheet_names = ['话费类', '流量类']\n",
    "csv_datas = [pd.read_excel('data/test.xlsx', sheet_name=item) for item  in sheet_names]\n",
    "def get_kv(data):\n",
    "    k = 0\n",
    "    find_data = []\n",
    "    for i in data.index:\n",
    "        sentence = data.loc[i]['短信原文']\n",
    "        result = get_result(sentence)\n",
    "        if len(result) == 0:\n",
    "            k+=1\n",
    "        find_data.append(result)\n",
    "    data['we_find'] = find_data\n",
    "    \n",
    "    return data\n",
    "exc_w = pd.ExcelWriter('test_reslut.xlsx')\n",
    "for i, c_da in enumerate(csv_datas):\n",
    "    if i == 0:\n",
    "        get_kv(c_da).to_excel(exc_w, '话费类')\n",
    "    else:\n",
    "        get_kv(c_da).to_excel(exc_w, '流量类')\n",
    "exc_w.save()       "
   ]
  },
  {
   "cell_type": "code",
   "execution_count": 12,
   "metadata": {},
   "outputs": [],
   "source": [
    "def get_unrecoga(data):\n",
    "    un_recog = []\n",
    "    for i in data.index:\n",
    "        sentence = data.loc[i]['短信原文']\n",
    "        result = get_result(sentence)\n",
    "        if len(result) == 0:\n",
    "            un_recog.append(1)\n",
    "        else:\n",
    "            un_recog.append(0)\n",
    "    data['un'] = un_recog\n",
    "    return data[data.un == 1]\n",
    "\n",
    "exc_w = pd.ExcelWriter('un_recoga_data.xlsx')\n",
    "for i, c_da in enumerate(csv_datas):\n",
    "    if i == 0:\n",
    "        get_unrecoga(c_da).to_excel(exc_w, '话费类')\n",
    "    else:\n",
    "        get_unrecoga(c_da).to_excel(exc_w, '流量类')\n",
    "        \n",
    "exc_w.save()"
   ]
  },
  {
   "cell_type": "code",
   "execution_count": null,
   "metadata": {},
   "outputs": [],
   "source": []
  }
 ],
 "metadata": {
  "kernelspec": {
   "display_name": "Python 3",
   "language": "python",
   "name": "python3"
  },
  "language_info": {
   "codemirror_mode": {
    "name": "ipython",
    "version": 3
   },
   "file_extension": ".py",
   "mimetype": "text/x-python",
   "name": "python",
   "nbconvert_exporter": "python",
   "pygments_lexer": "ipython3",
   "version": "3.6.5"
  },
  "varInspector": {
   "cols": {
    "lenName": 16,
    "lenType": 16,
    "lenVar": 40
   },
   "kernels_config": {
    "python": {
     "delete_cmd_postfix": "",
     "delete_cmd_prefix": "del ",
     "library": "var_list.py",
     "varRefreshCmd": "print(var_dic_list())"
    },
    "r": {
     "delete_cmd_postfix": ") ",
     "delete_cmd_prefix": "rm(",
     "library": "var_list.r",
     "varRefreshCmd": "cat(var_dic_list()) "
    }
   },
   "types_to_exclude": [
    "module",
    "function",
    "builtin_function_or_method",
    "instance",
    "_Feature"
   ],
   "window_display": false
  }
 },
 "nbformat": 4,
 "nbformat_minor": 2
}
